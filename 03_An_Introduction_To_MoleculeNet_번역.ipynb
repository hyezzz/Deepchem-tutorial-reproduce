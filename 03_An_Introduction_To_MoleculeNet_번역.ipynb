{
 "cells": [
  {
   "cell_type": "markdown",
   "id": "9999ada6",
   "metadata": {},
   "source": [
    "# Tutorial 3: An Introduction To MoleculeNet\n",
    "DeepChem의 가장 강력한 기능 중 하나는 사용할 datasets과 함께 \"batteries included\"이 제공된다는 것이다. DeepChem 개발자 커뮤니티는 머신 러닝 응용 프로그램에 사용하기 위해 서로 다른 과학 데이터 세트의 대규모 컬렉션을 유지하는 [MoleculeNet](https://pubs.rsc.org/en/content/articlelanding/2018/sc/c7sc02664a#!divAbstract) datasets을 유지한다. 원래의 MoleculeNet은 17개의 데이터 세트를 주로 분자 특성에 중점을 두었다. 지난 몇 년 동안 MoleculeNet 과학 기계 학습 도구의 광범위한 사용과 개발을 촉진하기 위해 광범위한 과학 데이터 세트 모음으로 발전했다.\n",
    "\n",
    "이러한 데이터 세트는 DeepChem 제품군의 나머지 부분과 통합되어 있으므로 `dc.molnet` 하위 모듈의 함수를 통해 이러한 데이터 세트에 편리하게 액세스할 수 있다. 튜토리얼 시리즈에서 이미 작업한 로더에 대한 몇 가지 예를 이미 보셨을 것입니다. MoleculeNet에 대한 전체 설명서는 [문서](https://deepchem.readthedocs.io/en/latest/moleculenet.html)에서 확인할 수 있습니다."
   ]
  },
  {
   "cell_type": "code",
   "execution_count": 1,
   "id": "3e9e5ca2",
   "metadata": {},
   "outputs": [
    {
     "data": {
      "text/plain": [
       "'2.5.0'"
      ]
     },
     "execution_count": 1,
     "metadata": {},
     "output_type": "execute_result"
    }
   ],
   "source": [
    "import deepchem as dc\n",
    "dc.__version__"
   ]
  },
  {
   "cell_type": "markdown",
   "id": "07b6fcba",
   "metadata": {},
   "source": [
    "## MoleculeNet Overview\n",
    "분자 용해도의 Delaney 데이터 세트를 로드"
   ]
  },
  {
   "cell_type": "code",
   "execution_count": 2,
   "id": "0b58ac28",
   "metadata": {},
   "outputs": [],
   "source": [
    "tasks, datasets, transformers = dc.molnet.load_delaney(featurizer='GraphConv', splitter='random')"
   ]
  },
  {
   "cell_type": "markdown",
   "id": "c41d0249",
   "metadata": {},
   "source": [
    "우리가 `dc.molnet.load_delaney`를 호출하는 로더 함수는 MoleculeNet loaders의 `dc.molnet` 하위 모듈에 존재한다는 점에 유의한다. 우리가 사용할 수 있는 전체 로더 컬렉션을 살펴보자."
   ]
  },
  {
   "cell_type": "code",
   "execution_count": 3,
   "id": "ffd8a1ca",
   "metadata": {},
   "outputs": [
    {
     "data": {
      "text/plain": [
       "['load_Platinum_Adsorption',\n",
       " 'load_bace_classification',\n",
       " 'load_bace_regression',\n",
       " 'load_bandgap',\n",
       " 'load_bbbc001',\n",
       " 'load_bbbc002',\n",
       " 'load_bbbp',\n",
       " 'load_cell_counting',\n",
       " 'load_chembl',\n",
       " 'load_chembl25',\n",
       " 'load_clearance',\n",
       " 'load_clintox',\n",
       " 'load_delaney',\n",
       " 'load_factors',\n",
       " 'load_function',\n",
       " 'load_hiv',\n",
       " 'load_hopv',\n",
       " 'load_hppb',\n",
       " 'load_kaggle',\n",
       " 'load_kinase',\n",
       " 'load_lipo',\n",
       " 'load_mp_formation_energy',\n",
       " 'load_mp_metallicity',\n",
       " 'load_muv',\n",
       " 'load_nci',\n",
       " 'load_pcba',\n",
       " 'load_pdbbind',\n",
       " 'load_perovskite',\n",
       " 'load_ppb',\n",
       " 'load_qm7',\n",
       " 'load_qm8',\n",
       " 'load_qm9',\n",
       " 'load_sampl',\n",
       " 'load_sider',\n",
       " 'load_sweet',\n",
       " 'load_thermosol',\n",
       " 'load_tox21',\n",
       " 'load_toxcast',\n",
       " 'load_uspto',\n",
       " 'load_uv',\n",
       " 'load_zinc15']"
      ]
     },
     "execution_count": 3,
     "metadata": {},
     "output_type": "execute_result"
    }
   ],
   "source": [
    "[method for method in dir(dc.molnet) if \"load_\" in method ]"
   ]
  },
  {
   "cell_type": "markdown",
   "id": "293803f0",
   "metadata": {},
   "source": [
    "MoleculeNet 로더 세트는 DeepChem 커뮤니티에 의해 적극적으로 유지되며 우리는 컬렉션에 새로운 데이터 세트를 추가하는 작업을 한다. 현재 MoleculeNet에 몇 개의 데이터셋이 있는지 확인해 보겠습니다."
   ]
  },
  {
   "cell_type": "code",
   "execution_count": 4,
   "id": "82fedc0e",
   "metadata": {},
   "outputs": [
    {
     "data": {
      "text/plain": [
       "41"
      ]
     },
     "execution_count": 4,
     "metadata": {},
     "output_type": "execute_result"
    }
   ],
   "source": [
    "len([method for method in dir(dc.molnet) if \"load_\" in method])"
   ]
  },
  {
   "cell_type": "markdown",
   "id": "ace668ba",
   "metadata": {},
   "source": [
    "## MoleculeNet Dataset Categories\n",
    "MoleculeNet에는 다양한 데이터 세트가 있습니다. 사용 가능한 다양한 데이터 세트 유형에 대해 간략하게 살펴보겠습니다. 데이터 세트를 서로 다른 범주로 나누고 해당 범주에 속하는 로더를 나열할 것이다. 이러한 각 데이터 세트에 대한 [자세한 내용](https://deepchem.readthedocs.io/en/latest/moleculenet.html). 원본 MoleculeNet paper은 이러한 papers의 하위 집합에 대한 세부 정보를 제공합니다. 이러한 데이터 세트를 아래에 \"V1\"로 표시했습니다. 나머지 모든 데이터 세트는 \"V2\"이며 이전 문서에는 기록되지 않는다.\n",
    "\n",
    "### Quantum Mechanical Datasets - 양자역학\n",
    "MoleculeNet의 quantum mechanical datasets(양자 기계적 데이터세트)에는 다양한 양자 기계적 속성 예측 작업이 포함되어 있다. 현재 양자역학 데이터 세트에는 QM7, QM7b, QM8, QM9 등이 있으며, 관련 로더는\n",
    "\n",
    "- [`dc.molnet.load_qm7`](https://deepchem.readthedocs.io/en/latest/moleculenet.html#deepchem.molnet.load_qm7): V1\n",
    "- [`dc.molnet.load_qm7b_from_mat`](https://deepchem.readthedocs.io/en/latest/moleculenet.html#deepchem.molnet.load_qm7): V1\n",
    "- [`dc.molnet.load_qm8`](https://deepchem.readthedocs.io/en/latest/moleculenet.html#deepchem.molnet.load_qm8): V1\n",
    "- [`dc.molnet.load_qm9`](https://deepchem.readthedocs.io/en/latest/moleculenet.html#deepchem.molnet.load_qm9): V1\n",
    "\n",
    "### Physical Chemistry Datasets - 물리화학\n",
    "물리적 화학 데이터 세트 컬렉션에는 분자의 다양한 물리적 특성을 예측하기 위한 다양한 작업이 포함되어 있다.\n",
    "\n",
    "- [`dc.molnet.load_delaney`](https://deepchem.readthedocs.io/en/latest/moleculenet.html#deepchem.molnet.load_delaney): V1. This dataset is also referred to as ESOL in the original  paper.\n",
    "- [`dc.molnet.load_sampl`](https://deepchem.readthedocs.io/en/latest/moleculenet.html#deepchem.molnet.load_sampl): V1. This dataset is also referred to as FreeSolv in the original  paper.\n",
    "- [`dc.molnet.load_lipo`](https://deepchem.readthedocs.io/en/latest/moleculenet.html#deepchem.molnet.load_lipo): V1. This dataset is also referred to as Lipophilicity in the original  paper.\n",
    "- [`dc.molnet.load_thermosol`](https://deepchem.readthedocs.io/en/latest/moleculenet.html#deepchem.molnet.load_thermosol): V2.\n",
    "- [`dc.molnet.load_hppb`](https://deepchem.readthedocs.io/en/latest/moleculenet.html#deepchem.molnet.load_hppb): V2.\n",
    "- [`dc.molnet.load_hopv`](https://deepchem.readthedocs.io/en/latest/moleculenet.html#deepchem.molnet.load_hopv): V2. This dataset is drawn from a recent publication [3]\n",
    "\n",
    "### Chemical Reaction Datasets - 화학반응\n",
    "이러한 데이터 세트는 계산 역합성/전진 합성에 사용하기 위한 화학 반응 데이터 세트를 보유하고 있다.\n",
    "\n",
    "- [`dc.molnet.load_uspto`](https://deepchem.readthedocs.io/en/latest/moleculenet.html#deepchem.molnet.load_uspto)\n",
    "\n",
    "### Biochemical/Biophysical Datasets - 생화학/생물물리학\n",
    "이러한 데이터 세트는 단백질에 대한 화합물의 결합 친화성과 같은 것을 측정하는 다양한 생화학적/생물학적 데이터 세트에서 도출된다.\n",
    "\n",
    "- [`dc.molnet.load_pcba`](https://deepchem.readthedocs.io/en/latest/moleculenet.html#deepchem.molnet.load_pcba): V1\n",
    "- [`dc.molnet.load_nci`](https://deepchem.readthedocs.io/en/latest/moleculenet.html#deepchem.molnet.load_nci): V2.\n",
    "- [`dc.molnet.load_muv`](https://deepchem.readthedocs.io/en/latest/moleculenet.html#deepchem.molnet.load_muv): V1\n",
    "- [`dc.molnet.load_hiv`](https://deepchem.readthedocs.io/en/latest/moleculenet.html#deepchem.molnet.load_hiv): V1\n",
    "- [`dc.molnet.load_ppb`](https://deepchem.readthedocs.io/en/latest/moleculenet.html#ppb-datasets): V2.\n",
    "- [`dc.molnet.load_bace_classification`](https://deepchem.readthedocs.io/en/latest/moleculenet.html#deepchem.molnet.load_bace_classification): V1. 이 로더는 원래의 MoleculeNet 페이퍼에서 BACE 데이터 세트에 대한 분류 작업을 로드한다.\n",
    "- [`dc.molnet.load_bace_regression`](https://deepchem.readthedocs.io/en/latest/moleculenet.html#deepchem.molnet.load_bace_regression): V1. 이 데이터 세트는 Merck의 약물 발견 카글 콘테스트에서 나온 것이며 [4]에 설명되어 있다.\n",
    "- [`dc.molnet.load_kaggle`](https://deepchem.readthedocs.io/en/latest/moleculenet.html#deepchem.molnet.load_kaggle): V2. 이 데이터 세트는 Merck의 약물 발견 카글 콘테스트에서 나온 것이며 [4]에 설명되어 있다.\n",
    "- [`dc.molnet.load_factors`](https://deepchem.readthedocs.io/en/latest/moleculenet.html#deepchem.molnet.load_factors): V2. 이 데이터 세트는 [4]의 데이터 세트입니다.\n",
    "- [`dc.molnet.load_uv`](https://deepchem.readthedocs.io/en/latest/moleculenet.html#deepchem.molnet.load_uv): V2. 이 데이터 세트는 [4]의 데이터 세트입니다.\n",
    "- [`dc.molnet.load_kinase`](https://deepchem.readthedocs.io/en/latest/moleculenet.html#deepchem.molnet.load_kinase): V2. 이 데이터 세트는 [4]의 데이터 세트입니다.\n",
    "\n",
    "### Molecular Catalog Datasets - 분자 카탈로그\n",
    "이러한 데이터 세트는 원시 SMILES 공식 또는 구조를 넘어서는 관련 속성이 없는 분자 데이터 세트를 제공한다. 이러한 유형의 데이터 세트는 생성 모델링 작업에 유용합니다.\n",
    "\n",
    "- [`dc.molnet.load_zinc15`](https://deepchem.readthedocs.io/en/latest/moleculenet.html#deepchem.molnet.load_zinc15): V2\n",
    "- [`dc.molnet.load_chembl`](https://deepchem.readthedocs.io/en/latest/moleculenet.html#deepchem.molnet.load_chembl): V2\n",
    "- [`dc.molnet.load_chembl25`](https://deepchem.readthedocs.io/en/latest/moleculenet.html#chembl25-datasets): V2\n",
    "\n",
    "### Physiology Datasets - 생리학\n",
    "이러한 데이터 세트는 분자가 인간 환자와 상호작용하는 방법의 생리학적 특성을 측정한다.\n",
    "\n",
    "- [`dc.molnet.load_bbbp`](https://deepchem.readthedocs.io/en/latest/moleculenet.html#deepchem.molnet.load_bbbp): V1\n",
    "- [`dc.molnet.load_tox21`](https://deepchem.readthedocs.io/en/latest/moleculenet.html#deepchem.molnet.load_tox21): V1\n",
    "- [`dc.molnet.load_toxcast`](https://deepchem.readthedocs.io/en/latest/moleculenet.html#deepchem.molnet.load_toxcast): V1\n",
    "- [`dc.molnet.load_sider`](https://deepchem.readthedocs.io/en/latest/moleculenet.html#deepchem.molnet.load_sider): V1\n",
    "- [`dc.molnet.load_clintox`](https://deepchem.readthedocs.io/en/latest/moleculenet.html#deepchem.molnet.load_clintox): V1\n",
    "- [`dc.molnet.load_clearance`](https://deepchem.readthedocs.io/en/latest/moleculenet.html#deepchem.molnet.load_clearance): V2.\n",
    "\n",
    "### Structural Biology Datasets - 구조 생물학\n",
    "이러한 데이터 세트에는 관련 속성과 함께 고분자의 3D 구조가 포함되어 있다.\n",
    "\n",
    "- [`dc.molnet.load_pdbbind`](https://deepchem.readthedocs.io/en/latest/moleculenet.html#deepchem.molnet.load_pdbbind): V1\n",
    "\n",
    "### Microscopy Datasets - 현미경\n",
    "이러한 데이터 세트에는 일반적으로 셀 라인의 현미경 이미지 데이터 세트가 포함되어 있습니다. 이러한 데이터 세트는 원래의 MolecularNet 용지에 없었다.\n",
    "\n",
    "- [`dc.molnet.load_bbbc001`](https://deepchem.readthedocs.io/en/latest/moleculenet.html#deepchem.molnet.load_bbbc001): V2\n",
    "- [`dc.molnet.load_bbbc002`](https://deepchem.readthedocs.io/en/latest/moleculenet.html#deepchem.molnet.load_bbbc002): V2\n",
    "- [`dc.molnet.load_cell_counting`](https://deepchem.readthedocs.io/en/latest/moleculenet.html#cell-counting-datasets): V2\n",
    "\n",
    "### Materials Properties Datasets - 재료 속성\n",
    "이러한 데이터 세트는 다양한 소재의 특성을 계산한다.\n",
    "\n",
    "- [`dc.molnet.load_bandgap`](https://deepchem.readthedocs.io/en/latest/moleculenet.html#deepchem.molnet.load_bandgap): V2\n",
    "- [`dc.molnet.load_perovskite`](https://deepchem.readthedocs.io/en/latest/moleculenet.html#deepchem.molnet.load_perovskite): V2\n",
    "- [`dc.molnet.load_mp_formation_energy`](https://deepchem.readthedocs.io/en/latest/moleculenet.html#deepchem.molnet.load_mp_formation_energy): V2\n",
    "- [`dc.molnet.load_mp_metallicity`](https://deepchem.readthedocs.io/en/latest/moleculenet.html#deepchem.molnet.load_mp_metallicity): V2\n",
    "\n",
    "[3] Lopez, Steven A., et al. \"The Harvard organic photovoltaic dataset.\" Scientific data 3.1 (2016): 1-7.\n",
    "\n",
    "[4] Ramsundar, Bharath, et al. \"Is multitask deep learning practical for pharma?.\" Journal of chemical information and modeling 57.8 (2017): 2068-2076."
   ]
  },
  {
   "cell_type": "markdown",
   "id": "973169f2",
   "metadata": {},
   "source": [
    "# MoleculeNet Loaders Explained"
   ]
  },
  {
   "cell_type": "markdown",
   "id": "d3ce9b69",
   "metadata": {},
   "source": [
    "모든 분자넷 로더 함수는 `dc.molnet.load_X` 형식을 취한다. 로더 함수는 일련의 인수`(tasks, datasets, transformers)`를 반환한다. 다음 각 반환 값에 대해 살펴보고 얻은 결과를 설명하겠습니다.\n",
    "\n",
    "1. `tasks`: 작업 이름 목록입니다. 분자넷의 많은 데이터 세트는 \"멀티태스크\"이다. 즉, 주어진 데이터 점에는 여러 개의 레이블이 연결되어 있습니다. 이러한 값은 이 데이터 점과 관련된 여러 측정치 또는 값에 해당합니다.\n",
    "2. `datasets`: 이 필드는 `dc.data.Dataset`의 객체`(train, valid, test)`세 개의 의 튜플이다. 이것들은 이 MoleculeNet dataset에 대한 훈련, 검증 및 테스트 세트에 해당한다.\n",
    "3. `transformers`: 이 필드는 처리하는 동안 이 데이터 세트에 적용된 `dc.trans.Transformer` 개체 목록입니다.\n",
    "\n",
    "이것은 추상적이므로 위의 `dc.molnet.load_delaney` 함수에 대한 각 필드를 살펴봅시다. `task`부터 시작합시다."
   ]
  },
  {
   "cell_type": "code",
   "execution_count": 5,
   "id": "07b3a083",
   "metadata": {},
   "outputs": [
    {
     "data": {
      "text/plain": [
       "['measured log solubility in mols per litre']"
      ]
     },
     "execution_count": 5,
     "metadata": {},
     "output_type": "execute_result"
    }
   ],
   "source": [
    "tasks"
   ]
  },
  {
   "cell_type": "markdown",
   "id": "8c9ba00b",
   "metadata": {},
   "source": [
    "이 데이터 세트에는 mol/L의 측정된 로그 용해도에 해당하는 한 가지 작업이 있다. 이제 `datasets`을 살펴보겠습니다."
   ]
  },
  {
   "cell_type": "code",
   "execution_count": 6,
   "id": "ea3b00d0",
   "metadata": {},
   "outputs": [
    {
     "data": {
      "text/plain": [
       "(<DiskDataset X.shape: (902,), y.shape: (902, 1), w.shape: (902, 1), ids: ['CCCCN(C)C(=O)Nc1ccc(Cl)c(Cl)c1' 'COC(=O)c1ccc(O)cc1' 'Oc1cccc2ccccc12'\n",
       "  ... 'Cc2c(N)c(=O)n(c1ccccc1)n2C' 'CCOCC'\n",
       "  'CC12CCC3C(CCc4cc(O)ccc34)C2CCC1O'], task_names: ['measured log solubility in mols per litre']>,\n",
       " <DiskDataset X.shape: (113,), y.shape: (113, 1), w.shape: (113, 1), ids: ['CC(C)Nc1nc(Cl)nc(NC(C)C)n1'\n",
       "  'CC1CC2C3CCC(O)(C(=O)C)C3(C)CC(O)C2(F)C4(C)C=CC(=O)C=C14'\n",
       "  'Oc1c(Br)cc(C#N)cc1Br ' ... 'c2ccc1ocnc1c2'\n",
       "  'CCOP(=S)(CC)Oc1cc(Cl)c(Cl)cc1Cl' 'CCOP(=S)(OCC)Oc1ccc(cc1)S(C)=O '], task_names: ['measured log solubility in mols per litre']>,\n",
       " <DiskDataset X.shape: (113,), y.shape: (113, 1), w.shape: (113, 1), ids: ['O=C1CCCN1' 'NC(=O)c1ccccc1O' 'CCOP(=S)(OCC)SCSC(C)(C)C' ...\n",
       "  'O=C(Cn1ccnc1N(=O)=O)NCc2ccccc2' 'CC(C)CCCO' 'CCCCCCCC=C'], task_names: ['measured log solubility in mols per litre']>)"
      ]
     },
     "execution_count": 6,
     "metadata": {},
     "output_type": "execute_result"
    }
   ],
   "source": [
    "datasets"
   ]
  },
  {
   "cell_type": "markdown",
   "id": "4fbae047",
   "metadata": {},
   "source": [
    "앞에서 언급했듯이 데이터 세트는 최대 3개의 데이터 세트임을 알 수 있다."
   ]
  },
  {
   "cell_type": "code",
   "execution_count": 7,
   "id": "d79650b9",
   "metadata": {},
   "outputs": [],
   "source": [
    "train, valid, test = datasets"
   ]
  },
  {
   "cell_type": "code",
   "execution_count": 8,
   "id": "d4901b3a",
   "metadata": {},
   "outputs": [
    {
     "data": {
      "text/plain": [
       "<DiskDataset X.shape: (902,), y.shape: (902, 1), w.shape: (902, 1), ids: ['CCCCN(C)C(=O)Nc1ccc(Cl)c(Cl)c1' 'COC(=O)c1ccc(O)cc1' 'Oc1cccc2ccccc12'\n",
       " ... 'Cc2c(N)c(=O)n(c1ccccc1)n2C' 'CCOCC'\n",
       " 'CC12CCC3C(CCc4cc(O)ccc34)C2CCC1O'], task_names: ['measured log solubility in mols per litre']>"
      ]
     },
     "execution_count": 8,
     "metadata": {},
     "output_type": "execute_result"
    }
   ],
   "source": [
    "train"
   ]
  },
  {
   "cell_type": "code",
   "execution_count": 9,
   "id": "8ec5fe33",
   "metadata": {},
   "outputs": [
    {
     "data": {
      "text/plain": [
       "<DiskDataset X.shape: (113,), y.shape: (113, 1), w.shape: (113, 1), ids: ['CC(C)Nc1nc(Cl)nc(NC(C)C)n1'\n",
       " 'CC1CC2C3CCC(O)(C(=O)C)C3(C)CC(O)C2(F)C4(C)C=CC(=O)C=C14'\n",
       " 'Oc1c(Br)cc(C#N)cc1Br ' ... 'c2ccc1ocnc1c2'\n",
       " 'CCOP(=S)(CC)Oc1cc(Cl)c(Cl)cc1Cl' 'CCOP(=S)(OCC)Oc1ccc(cc1)S(C)=O '], task_names: ['measured log solubility in mols per litre']>"
      ]
     },
     "execution_count": 9,
     "metadata": {},
     "output_type": "execute_result"
    }
   ],
   "source": [
    "valid"
   ]
  },
  {
   "cell_type": "code",
   "execution_count": 10,
   "id": "94947dfc",
   "metadata": {},
   "outputs": [
    {
     "data": {
      "text/plain": [
       "<DiskDataset X.shape: (113,), y.shape: (113, 1), w.shape: (113, 1), ids: ['O=C1CCCN1' 'NC(=O)c1ccccc1O' 'CCOP(=S)(OCC)SCSC(C)(C)C' ...\n",
       " 'O=C(Cn1ccnc1N(=O)=O)NCc2ccccc2' 'CC(C)CCCO' 'CCCCCCCC=C'], task_names: ['measured log solubility in mols per litre']>"
      ]
     },
     "execution_count": 10,
     "metadata": {},
     "output_type": "execute_result"
    }
   ],
   "source": [
    "test"
   ]
  },
  {
   "cell_type": "markdown",
   "id": "b3a0407c",
   "metadata": {},
   "source": [
    "train dataset의 datapoint 중 하나를 살펴보자."
   ]
  },
  {
   "cell_type": "code",
   "execution_count": 11,
   "id": "12ebcfba",
   "metadata": {},
   "outputs": [
    {
     "data": {
      "text/plain": [
       "<deepchem.feat.mol_graphs.ConvMol at 0x1daae5fa6c8>"
      ]
     },
     "execution_count": 11,
     "metadata": {},
     "output_type": "execute_result"
    }
   ],
   "source": [
    "train.X[0]"
   ]
  },
  {
   "cell_type": "markdown",
   "id": "47b8001f",
   "metadata": {},
   "source": [
    "이것은 `dc.feat.ConvMolFeaturizer`에 의해 생성된 `dc.feat.mol_graphs.ConvMol` 개체라는 점에 유의하십시오. 잠시 후 기능 선택을 제어하는 방법에 대해 자세히 알아보겠습니다. 마지막으로 `transformers` 필드를 살펴보겠습니다."
   ]
  },
  {
   "cell_type": "code",
   "execution_count": 12,
   "id": "a6beccfc",
   "metadata": {},
   "outputs": [
    {
     "data": {
      "text/plain": [
       "[<deepchem.trans.transformers.NormalizationTransformer at 0x1daadee6b48>]"
      ]
     },
     "execution_count": 12,
     "metadata": {},
     "output_type": "execute_result"
    }
   ],
   "source": [
    "transformers"
   ]
  },
  {
   "cell_type": "markdown",
   "id": "4d65a4ea",
   "metadata": {},
   "source": [
    "그래서 우리는 하나의 transformer `dc.trans.NormalizationTransformer`가 적용되었다는 것을 알 수 있습니다.\n",
    "\n",
    "지금까지 이 설명을 쭉 읽어본 결과, 여러분은 후드 아래에서 어떤 선택이 이루어지는지 궁금해 할 것이다. 앞에서 간략하게 언급했듯이 데이터 세트는 다양한 \"featurizers\" 선택으로 처리될 수 있다. 여기서 featurization의 선택을 제어할 수 있습니까? 또한 소스 데이터 세트가 세 개의 서로 다른 데이터셋으로 어떻게 train/valid/test로 분할되었는가?\n",
    "\n",
    "'featurizer' 및 'splitter' 키워드 인수를 사용하고 다른 문자열을 전달할 수 있습니다. 'featurizer'의 일반적인 선택은 `dc.feat.CircularFingerprint`, `dc.feat.ConvMolFeaturizer`, `dc.feat.WeaveFeaturizer` and `dc.feat.SmilesToImage` featurizers에 해당하는 'ECFP', 'GraphConv', 'Weave', 'miles2img'입니다. 'splitter'의 일반적인 선택은 `None`, 'index', 'random', 'scaffold' and 'statified' `dc.splits.IndexSplitter`, `dc.splits.RandomSplitter`, `dc.splits.SingletaskStratifiedSplitter`이다. splitters에 대해서는 아직 많이 이야기하지 않았지만 직관적으로 서로 다른 기준에 따라 데이터 집합을 분할하는 방법입니다. 다음 튜토리얼에서 더 말씀드리겠습니다.\n",
    "\n",
    "문자열 대신 `Featurizer` or `Splitter` 개체를 전달할 수도 있습니다. 예를 들어 Featurizer에 동작을 사용자 지정하는 데 사용할 수 있는 생성자 인수가 있는 경우 매우 유용합니다."
   ]
  },
  {
   "cell_type": "code",
   "execution_count": 18,
   "id": "97ee454b",
   "metadata": {},
   "outputs": [],
   "source": [
    "tasks, datasets, transformers = dc.molnet.load_delaney(featurizer=\"ECFP\",splitter=\"scaffold\")"
   ]
  },
  {
   "cell_type": "code",
   "execution_count": 19,
   "id": "ca1e2f2c",
   "metadata": {},
   "outputs": [],
   "source": [
    "(train, valid, test) = datasets"
   ]
  },
  {
   "cell_type": "code",
   "execution_count": 20,
   "id": "5182dc90",
   "metadata": {},
   "outputs": [
    {
     "data": {
      "text/plain": [
       "<DiskDataset X.shape: (902, 1024), y.shape: (902, 1), w.shape: (902, 1), ids: ['CC(C)=CCCC(C)=CC(=O)' 'CCCC=C' 'CCCCCCCCCCCCCC' ...\n",
       " 'Nc2cccc3nc1ccccc1cc23 ' 'C1CCCCCC1' 'OC1CCCCCC1'], task_names: ['measured log solubility in mols per litre']>"
      ]
     },
     "execution_count": 20,
     "metadata": {},
     "output_type": "execute_result"
    }
   ],
   "source": [
    "train"
   ]
  },
  {
   "cell_type": "code",
   "execution_count": 21,
   "id": "0f1076f1",
   "metadata": {},
   "outputs": [
    {
     "data": {
      "text/plain": [
       "array([0., 0., 0., ..., 0., 0., 0.])"
      ]
     },
     "execution_count": 21,
     "metadata": {},
     "output_type": "execute_result"
    }
   ],
   "source": [
    "train.X[0]"
   ]
  },
  {
   "cell_type": "markdown",
   "id": "2b438807",
   "metadata": {},
   "source": [
    "이전의 호출과 달리 우리는 `dc.feat.ConvMolFeaturizer`에 의해 생성된 `ConvMol` 개체 대신 `dc.feat.CircularFingerprint`에 의해 생성된 numpy 어레이를 가지고 있다.\n",
    "\n",
    "직접 한 번 해 보세요. MoleculeNet을 호출하여 다른 데이터 세트를 로드하고 여러 가지 featurizer/split 옵션을 실험해 보고 어떻게 되는지 확인해 보십시오!"
   ]
  }
 ],
 "metadata": {
  "kernelspec": {
   "display_name": "deepchem",
   "language": "python",
   "name": "deepchem"
  },
  "language_info": {
   "codemirror_mode": {
    "name": "ipython",
    "version": 3
   },
   "file_extension": ".py",
   "mimetype": "text/x-python",
   "name": "python",
   "nbconvert_exporter": "python",
   "pygments_lexer": "ipython3",
   "version": "3.7.10"
  }
 },
 "nbformat": 4,
 "nbformat_minor": 5
}
